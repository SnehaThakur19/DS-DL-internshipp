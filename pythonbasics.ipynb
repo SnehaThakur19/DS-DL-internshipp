{
 "cells": [
  {
   "cell_type": "code",
   "execution_count": 1,
   "id": "48271597",
   "metadata": {},
   "outputs": [
    {
     "name": "stdout",
     "output_type": "stream",
     "text": [
      "8\n"
     ]
    }
   ],
   "source": [
    "addition = 3 + 5\n",
    "print (addition)"
   ]
  },
  {
   "cell_type": "markdown",
   "id": "acb52167",
   "metadata": {},
   "source": [
    "### Data Structures"
   ]
  },
  {
   "cell_type": "code",
   "execution_count": 2,
   "id": "8aa7e3c5",
   "metadata": {},
   "outputs": [],
   "source": [
    "\n",
    "randomList = [1, 2, 3, 4, 5, 6]"
   ]
  },
  {
   "cell_type": "markdown",
   "id": "d22e4e48",
   "metadata": {},
   "source": [
    "#### Multiply all odd numbers in given list"
   ]
  },
  {
   "cell_type": "code",
   "execution_count": 3,
   "id": "acd2c9b6",
   "metadata": {},
   "outputs": [
    {
     "name": "stdout",
     "output_type": "stream",
     "text": [
      "The final answer is : 15\n"
     ]
    }
   ],
   "source": [
    "result = 1\n",
    "\n",
    "for _ in randomList:\n",
    "    if _ % 2 != 0:\n",
    "        result *= _\n",
    "\n",
    "print (f'The final answer is : {result}')"
   ]
  },
  {
   "cell_type": "markdown",
   "id": "c4167fe4",
   "metadata": {},
   "source": [
    "#### Adding a new number to the list"
   ]
  },
  {
   "cell_type": "code",
   "execution_count": 4,
   "id": "90562645",
   "metadata": {},
   "outputs": [
    {
     "data": {
      "text/plain": [
       "[1, 2, 3, 4, 5, 6]"
      ]
     },
     "execution_count": 4,
     "metadata": {},
     "output_type": "execute_result"
    }
   ],
   "source": [
    "randomList"
   ]
  },
  {
   "cell_type": "code",
   "execution_count": 5,
   "id": "b425095c",
   "metadata": {},
   "outputs": [],
   "source": [
    "\n",
    "randomList.append (7)"
   ]
  },
  {
   "cell_type": "code",
   "execution_count": 6,
   "id": "6b240945",
   "metadata": {},
   "outputs": [
    {
     "data": {
      "text/plain": [
       "[1, 2, 3, 4, 5, 6, 7]"
      ]
     },
     "execution_count": 6,
     "metadata": {},
     "output_type": "execute_result"
    }
   ],
   "source": [
    "\n",
    "randomList"
   ]
  },
  {
   "cell_type": "code",
   "execution_count": null,
   "id": "31f817d3",
   "metadata": {},
   "outputs": [],
   "source": []
  }
 ],
 "metadata": {
  "kernelspec": {
   "display_name": "Sneha",
   "language": "python",
   "name": "python3"
  },
  "language_info": {
   "codemirror_mode": {
    "name": "ipython",
    "version": 3
   },
   "file_extension": ".py",
   "mimetype": "text/x-python",
   "name": "python",
   "nbconvert_exporter": "python",
   "pygments_lexer": "ipython3",
   "version": "3.13.5"
  }
 },
 "nbformat": 4,
 "nbformat_minor": 5
}
